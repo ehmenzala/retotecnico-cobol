{
 "cells": [
  {
   "cell_type": "code",
   "execution_count": 2,
   "metadata": {},
   "outputs": [
    {
     "data": {
      "text/html": [
       "<div>\n",
       "<style scoped>\n",
       "    .dataframe tbody tr th:only-of-type {\n",
       "        vertical-align: middle;\n",
       "    }\n",
       "\n",
       "    .dataframe tbody tr th {\n",
       "        vertical-align: top;\n",
       "    }\n",
       "\n",
       "    .dataframe thead th {\n",
       "        text-align: right;\n",
       "    }\n",
       "</style>\n",
       "<table border=\"1\" class=\"dataframe\">\n",
       "  <thead>\n",
       "    <tr style=\"text-align: right;\">\n",
       "      <th></th>\n",
       "      <th>id</th>\n",
       "      <th>type</th>\n",
       "      <th>amount</th>\n",
       "    </tr>\n",
       "  </thead>\n",
       "  <tbody>\n",
       "    <tr>\n",
       "      <th>0</th>\n",
       "      <td>1</td>\n",
       "      <td>Débito</td>\n",
       "      <td>384</td>\n",
       "    </tr>\n",
       "    <tr>\n",
       "      <th>1</th>\n",
       "      <td>2</td>\n",
       "      <td>Débito</td>\n",
       "      <td>689</td>\n",
       "    </tr>\n",
       "    <tr>\n",
       "      <th>2</th>\n",
       "      <td>3</td>\n",
       "      <td>Débito</td>\n",
       "      <td>117</td>\n",
       "    </tr>\n",
       "    <tr>\n",
       "      <th>3</th>\n",
       "      <td>4</td>\n",
       "      <td>Débito</td>\n",
       "      <td>25</td>\n",
       "    </tr>\n",
       "    <tr>\n",
       "      <th>4</th>\n",
       "      <td>5</td>\n",
       "      <td>Débito</td>\n",
       "      <td>814</td>\n",
       "    </tr>\n",
       "  </tbody>\n",
       "</table>\n",
       "</div>"
      ],
      "text/plain": [
       "   id    type  amount\n",
       "0   1  Débito     384\n",
       "1   2  Débito     689\n",
       "2   3  Débito     117\n",
       "3   4  Débito      25\n",
       "4   5  Débito     814"
      ]
     },
     "execution_count": 2,
     "metadata": {},
     "output_type": "execute_result"
    }
   ],
   "source": [
    "from pathlib import Path\n",
    "import pandas as pd\n",
    "import os\n",
    "\n",
    "# CSV File information\n",
    "BASE_DIR = Path(os.getcwd()).parent\n",
    "input_file = 'bank-transactions.csv'\n",
    "input_path = BASE_DIR / 'data' / input_file\n",
    "\n",
    "transactions_df = pd.read_csv(input_path, sep=';', encoding='latin1')\n",
    "\n",
    "transactions_df.head()\n"
   ]
  },
  {
   "cell_type": "code",
   "execution_count": 7,
   "metadata": {},
   "outputs": [
    {
     "name": "stdout",
     "output_type": "stream",
     "text": [
      "Reporte de Transacciones\n",
      "---------------------------------------------\n",
      "Suma de débitos: 4124\n",
      "Suma de créditos: 5424\n",
      "Balance: -1300\n",
      "Transacción de Mayor Monto: ID 18 - 950\n"
     ]
    }
   ],
   "source": [
    "transactions = transactions_df.to_dict(orient='records')\n",
    "\n",
    "credit_sum = 0\n",
    "debit_sum = 0\n",
    "greatest_transaction = None\n",
    "\n",
    "for transaction in transactions:\n",
    "  current_amount = transaction['amount']\n",
    "  if greatest_transaction:\n",
    "    if current_amount > greatest_transaction['amount']:\n",
    "      greatest_transaction = transaction\n",
    "  else:\n",
    "    greatest_transaction = transaction\n",
    "\n",
    "  if (transaction['type'] == 'Débito'):\n",
    "    debit_sum += transaction['amount']\n",
    "  elif (transaction['type'] == 'Crédito'):\n",
    "    credit_sum += transaction['amount']\n",
    "\n",
    "balance = debit_sum - credit_sum\n",
    "\n",
    "print('Reporte de Transacciones')\n",
    "print('---------------------------------------------')\n",
    "print(f'Suma de débitos: {debit_sum}')\n",
    "print(f'Suma de créditos: {credit_sum}')\n",
    "print(f'Balance: {balance}')\n",
    "print(f'Transacción de Mayor Monto: ID {greatest_transaction['id']} - {greatest_transaction['amount']}')"
   ]
  }
 ],
 "metadata": {
  "kernelspec": {
   "display_name": "minimal_ds",
   "language": "python",
   "name": "python3"
  },
  "language_info": {
   "codemirror_mode": {
    "name": "ipython",
    "version": 3
   },
   "file_extension": ".py",
   "mimetype": "text/x-python",
   "name": "python",
   "nbconvert_exporter": "python",
   "pygments_lexer": "ipython3",
   "version": "3.13.1"
  }
 },
 "nbformat": 4,
 "nbformat_minor": 2
}
